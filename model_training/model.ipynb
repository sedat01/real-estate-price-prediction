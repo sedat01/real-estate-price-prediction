{
 "cells": [
  {
   "cell_type": "code",
   "execution_count": 1,
   "metadata": {},
   "outputs": [],
   "source": [
    "from sklearn.model_selection import train_test_split\n",
    "import pandas as pd\n",
    "import numpy as np"
   ]
  },
  {
   "cell_type": "code",
   "execution_count": 2,
   "metadata": {},
   "outputs": [
    {
     "data": {
      "text/plain": [
       "price                                             0\n",
       "kitchen_type                                      0\n",
       "building_condition                                0\n",
       "energy_heatingType                                0\n",
       "certificates_primaryEnergyConsumptionLevel        0\n",
       "bedroom_count                                     0\n",
       "land_surface                                      0\n",
       "outdoor_terrace_exists                            0\n",
       "specificities_SME_office_exists                   0\n",
       "wellnessEquipment_hasSwimmingPool                 0\n",
       "parking_parkingSpaceCount_indoor                  0\n",
       "parking_parkingSpaceCount_outdoor                 0\n",
       "condition_isNewlyBuilt                            0\n",
       "Province                                          0\n",
       "Number of frontages                               0\n",
       "Living area                                       0\n",
       "Living room surface                            7485\n",
       "Kitchen surface                                8224\n",
       "Bedroom 1 surface                              7563\n",
       "Bedroom 2 surface                              7617\n",
       "Bedroom 3 surface                              9138\n",
       "Bathrooms                                      1958\n",
       "Toilets                                           0\n",
       "Terrace surface                               10837\n",
       "Energy class                                      0\n",
       "Double glazing                                 3119\n",
       "Street frontage width                         10729\n",
       "Jacuzzi                                           0\n",
       "Sauna                                             0\n",
       "dtype: int64"
      ]
     },
     "execution_count": 2,
     "metadata": {},
     "output_type": "execute_result"
    }
   ],
   "source": [
    "df = pd.read_csv(\"cleaned.csv\")\n",
    "df.isnull().sum()\n",
    "df.head()\n",
    "df = df.drop([\"Unnamed: 0\",\"id\",\"type\",\"subtype\",\"zip\",\"Bedroom 4 surface\",\"Bedroom 5 surface\",\"Surface of the plot\",\"Garden\",\"Garden orientation\"],axis=1,errors=\"ignore\")\n",
    "df.isnull().sum()"
   ]
  },
  {
   "cell_type": "code",
   "execution_count": 3,
   "metadata": {},
   "outputs": [
    {
     "data": {
      "text/plain": [
       "price                                             0\n",
       "kitchen_type                                      0\n",
       "building_condition                                0\n",
       "energy_heatingType                                0\n",
       "certificates_primaryEnergyConsumptionLevel        0\n",
       "bedroom_count                                     0\n",
       "land_surface                                      0\n",
       "outdoor_terrace_exists                            0\n",
       "specificities_SME_office_exists                   0\n",
       "wellnessEquipment_hasSwimmingPool                 0\n",
       "parking_parkingSpaceCount_indoor                  0\n",
       "parking_parkingSpaceCount_outdoor                 0\n",
       "condition_isNewlyBuilt                            0\n",
       "Province                                          0\n",
       "Number of frontages                               0\n",
       "Living area                                       0\n",
       "Living room surface                            7485\n",
       "Kitchen surface                                8224\n",
       "Bedroom 1 surface                              7563\n",
       "Bedroom 2 surface                              7617\n",
       "Bedroom 3 surface                              9138\n",
       "Bathrooms                                         0\n",
       "Toilets                                           0\n",
       "Terrace surface                               10837\n",
       "Energy class                                      0\n",
       "Double glazing                                    0\n",
       "Street frontage width                         10729\n",
       "Jacuzzi                                           0\n",
       "Sauna                                             0\n",
       "dtype: int64"
      ]
     },
     "execution_count": 3,
     "metadata": {},
     "output_type": "execute_result"
    }
   ],
   "source": [
    "df[\"Bathrooms\"].fillna(1,inplace=True)\n",
    "df[\"Double glazing\"].fillna(0,inplace=True)\n",
    "df.isnull().sum()"
   ]
  },
  {
   "cell_type": "code",
   "execution_count": 4,
   "metadata": {},
   "outputs": [
    {
     "data": {
      "text/plain": [
       "array(['gas', 'fueloil', 'other', 'wood', 'electric', 'pellet', 'carbon',\n",
       "       'solar'], dtype=object)"
      ]
     },
     "execution_count": 4,
     "metadata": {},
     "output_type": "execute_result"
    }
   ],
   "source": [
    "data = df.drop([\"Living room surface\",\"Kitchen surface\",\"Bedroom 1 surface\",\"Bedroom 2 surface\",\"Bedroom 3 surface\",\"Terrace surface\",\"Street frontage width\",\n",
    "                \"Energy class\",\"Double glazing\"],axis=1,errors=\"ignore\")\n",
    "\n",
    "data[\"energy_heatingType\"].unique()"
   ]
  },
  {
   "cell_type": "code",
   "execution_count": 5,
   "metadata": {},
   "outputs": [
    {
     "data": {
      "text/plain": [
       "price                                           int64\n",
       "kitchen_type                                    int64\n",
       "building_condition                              int64\n",
       "certificates_primaryEnergyConsumptionLevel    float64\n",
       "bedroom_count                                   int64\n",
       "land_surface                                  float64\n",
       "outdoor_terrace_exists                          int64\n",
       "specificities_SME_office_exists                 int64\n",
       "wellnessEquipment_hasSwimmingPool               int64\n",
       "parking_parkingSpaceCount_indoor              float64\n",
       "parking_parkingSpaceCount_outdoor             float64\n",
       "condition_isNewlyBuilt                        float64\n",
       "Number of frontages                           float64\n",
       "Living area                                   float64\n",
       "Bathrooms                                     float64\n",
       "Toilets                                       float64\n",
       "Jacuzzi                                         int64\n",
       "Sauna                                           int64\n",
       "energy_heatingType_carbon                       uint8\n",
       "energy_heatingType_electric                     uint8\n",
       "energy_heatingType_fueloil                      uint8\n",
       "energy_heatingType_gas                          uint8\n",
       "energy_heatingType_other                        uint8\n",
       "energy_heatingType_pellet                       uint8\n",
       "energy_heatingType_solar                        uint8\n",
       "energy_heatingType_wood                         uint8\n",
       "Province_Antwerp                                uint8\n",
       "Province_Belgian Luxembourg                     uint8\n",
       "Province_Brussels                               uint8\n",
       "Province_East Falnders                          uint8\n",
       "Province_Flemish Brabant                        uint8\n",
       "Province_Hainaut                                uint8\n",
       "Province_Liege                                  uint8\n",
       "Province_Limburg                                uint8\n",
       "Province_Namur                                  uint8\n",
       "Province_Waloon Brabant                         uint8\n",
       "Province_West Flanders                          uint8\n",
       "dtype: object"
      ]
     },
     "execution_count": 5,
     "metadata": {},
     "output_type": "execute_result"
    }
   ],
   "source": [
    "data = pd.get_dummies(data,columns=['energy_heatingType','Province'])\n",
    "data.dtypes"
   ]
  },
  {
   "cell_type": "code",
   "execution_count": 14,
   "metadata": {},
   "outputs": [
    {
     "data": {
      "text/plain": [
       "Index(['kitchen_type', 'building_condition',\n",
       "       'certificates_primaryEnergyConsumptionLevel', 'bedroom_count',\n",
       "       'land_surface', 'outdoor_terrace_exists',\n",
       "       'specificities_SME_office_exists', 'wellnessEquipment_hasSwimmingPool',\n",
       "       'parking_parkingSpaceCount_indoor', 'parking_parkingSpaceCount_outdoor',\n",
       "       'condition_isNewlyBuilt', 'Number of frontages', 'Living area',\n",
       "       'Bathrooms', 'Toilets', 'Jacuzzi', 'Sauna', 'energy_heatingType_carbon',\n",
       "       'energy_heatingType_electric', 'energy_heatingType_fueloil',\n",
       "       'energy_heatingType_gas', 'energy_heatingType_other',\n",
       "       'energy_heatingType_pellet', 'energy_heatingType_solar',\n",
       "       'energy_heatingType_wood', 'Province_Antwerp',\n",
       "       'Province_Belgian Luxembourg', 'Province_Brussels',\n",
       "       'Province_East Falnders', 'Province_Flemish Brabant',\n",
       "       'Province_Hainaut', 'Province_Liege', 'Province_Limburg',\n",
       "       'Province_Namur', 'Province_Waloon Brabant', 'Province_West Flanders'],\n",
       "      dtype='object')"
      ]
     },
     "execution_count": 14,
     "metadata": {},
     "output_type": "execute_result"
    }
   ],
   "source": [
    "X=data.drop(\"price\",axis=1)\n",
    "y=data[\"price\"]\n",
    "X_train,X_test,y_train,y_test = train_test_split(X,y,random_state=41,test_size=0.2)\n"
   ]
  },
  {
   "cell_type": "code",
   "execution_count": 7,
   "metadata": {},
   "outputs": [],
   "source": [
    "from sklearn.linear_model import LinearRegression\n",
    "reg = LinearRegression()\n",
    "reg.fit(X_train,y_train)\n",
    "y_pred = reg.predict(X_test)"
   ]
  },
  {
   "cell_type": "code",
   "execution_count": 8,
   "metadata": {},
   "outputs": [
    {
     "data": {
      "text/plain": [
       "0.6284048158056799"
      ]
     },
     "execution_count": 8,
     "metadata": {},
     "output_type": "execute_result"
    }
   ],
   "source": [
    "reg.score(X_test,y_test)"
   ]
  },
  {
   "cell_type": "code",
   "execution_count": 9,
   "metadata": {},
   "outputs": [
    {
     "data": {
      "text/plain": [
       "0.6284048158056799"
      ]
     },
     "execution_count": 9,
     "metadata": {},
     "output_type": "execute_result"
    }
   ],
   "source": [
    "from sklearn.metrics import r2_score\n",
    "r2_score(y_test,y_pred)\n"
   ]
  },
  {
   "cell_type": "code",
   "execution_count": 10,
   "metadata": {},
   "outputs": [
    {
     "data": {
      "text/plain": [
       "0.6826873408565635"
      ]
     },
     "execution_count": 10,
     "metadata": {},
     "output_type": "execute_result"
    }
   ],
   "source": [
    "from sklearn.ensemble import RandomForestRegressor\n",
    "\n",
    "rfr = RandomForestRegressor()\n",
    "rfr.fit(X_train,y_train)\n",
    "rfr.score(X_test,y_test)"
   ]
  },
  {
   "cell_type": "code",
   "execution_count": 13,
   "metadata": {},
   "outputs": [
    {
     "data": {
      "text/plain": [
       "<matplotlib.collections.PathCollection at 0x2788a05bdc0>"
      ]
     },
     "execution_count": 13,
     "metadata": {},
     "output_type": "execute_result"
    },
    {
     "data": {
      "image/png": "[encoded data removed]",
      "text/plain": [
       "<Figure size 640x480 with 1 Axes>"
      ]
     },
     "metadata": {},
     "output_type": "display_data"
    }
   ],
   "source": [
    "import matplotlib.pyplot as plt\n",
    "\n",
    "plt.scatter(y_test,y_pred)"
   ]
  }
 ],
 "metadata": {
  "kernelspec": {
   "display_name": "Python 3.10.5 ('.venv': venv)",
   "language": "python",
   "name": "python3"
  },
  "language_info": {
   "codemirror_mode": {
    "name": "ipython",
    "version": 3
   },
   "file_extension": ".py",
   "mimetype": "text/x-python",
   "name": "python",
   "nbconvert_exporter": "python",
   "pygments_lexer": "ipython3",
   "version": "3.10.5"
  },
  "orig_nbformat": 4,
  "vscode": {
   "interpreter": {
    "hash": "2fc56a45dc92fb88b65af586e1b67f0b73e7f435f095dc4a56049a09a0bdff18"
   }
  }
 },
 "nbformat": 4,
 "nbformat_minor": 2
}
